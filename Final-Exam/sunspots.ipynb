{
 "cells": [
  {
   "cell_type": "code",
   "execution_count": null,
   "metadata": {
    "collapsed": true
   },
   "outputs": [],
   "source": [
    "%matplotlib inline\n",
    "import numpy as np\n",
    "\n",
    "\n",
    "arr = []\n",
    "file = open('ISSN_D_tot.csv', mode=\"r\")\n",
    "for line in file:\n",
    "    arr.append(line)\n",
    "file.close()\n",
    "\n",
    "temp = np.array(arr)\n",
    "\n",
    "\n",
    "low, high = temp.shape\n",
    "print('the most recent observations were on ' + str(temp[low][0]) + '-'+ str(temp[low][1]) + '-' + str(temp[low][3]))\n",
    "\n",
    "mean = 0;\n",
    "for in x range(0,low):\n",
    "    mean = mean + temp[x][4]\n",
    "    \n",
    "mean = mean/2\n",
    "\n",
    "print('the mean is ' + str(mean))\n",
    "median = 28\n",
    "sd = 10.32\n",
    "\n",
    " to 2014\n",
    "\n",
    "lt.figure(figsize=(15,15), dpi=96)\n",
    "\n",
    "\n",
    "plt.plot(x, y,'ro')\n",
    "plt.plot(mean,'bo')\n",
    "plt.plot(median,'blo')\n",
    "plt.plot(sd,'m-')\n",
    "\n",
    "\n",
    "\n",
    "\n",
    "\n",
    "\n",
    "plt.title(\"Daily sunspot observations(1818)\", fontsize=20)\n",
    "\n",
    "# showing the final plot\n",
    "plt.show()\n",
    "\n"
   ]
  }
 ],
 "metadata": {
  "kernelspec": {
   "display_name": "Python 3",
   "language": "python",
   "name": "python3"
  },
  "language_info": {
   "codemirror_mode": {
    "name": "ipython",
    "version": 3
   },
   "file_extension": ".py",
   "mimetype": "text/x-python",
   "name": "python",
   "nbconvert_exporter": "python",
   "pygments_lexer": "ipython3",
   "version": "3.5.0"
  }
 },
 "nbformat": 4,
 "nbformat_minor": 0
}
