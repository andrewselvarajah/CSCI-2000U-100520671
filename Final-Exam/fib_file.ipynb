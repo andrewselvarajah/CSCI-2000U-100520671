{
 "cells": [
  {
   "cell_type": "code",
   "execution_count": 2,
   "metadata": {
    "collapsed": false
   },
   "outputs": [],
   "source": [
    "def fib_file(n, fname):\n",
    "    \n",
    "    fname = 'fib' + str(n) + '.txt'\n",
    "    writer = open(fname, 'w')\n",
    "    writer.write(str(n))\n",
    "    writer.write('            ')\n",
    "    writer.write('F_n\\n')\n",
    "    writer.write('0')\n",
    "    writer.write(\"            \")\n",
    "    writer.write('0\\n')\n",
    "    writer.write('1')\n",
    "    writer.write(\"            \")\n",
    "    writer.write('1\\n')\n",
    "    \n",
    "    count = 2\n",
    "    prev = 1\n",
    "    \n",
    "    \n",
    "    for x in range (2,n+1):\n",
    "        count = count + prev\n",
    "        prev = count - prev\n",
    "        writer.write(str(x))\n",
    "        writer.write(\"            \")\n",
    "        writer.writelines(str(count)+'\\n')\n",
    "        \n",
    "\n",
    "\n",
    "    writer.close()\n",
    "    \n",
    "\n",
    "    \n",
    "    \n",
    "fib_file(7,'fib')    \n",
    "\n",
    "   "
   ]
  },
  {
   "cell_type": "code",
   "execution_count": null,
   "metadata": {
    "collapsed": true
   },
   "outputs": [],
   "source": []
  }
 ],
 "metadata": {
  "kernelspec": {
   "display_name": "Python 3",
   "language": "python",
   "name": "python3"
  },
  "language_info": {
   "codemirror_mode": {
    "name": "ipython",
    "version": 3
   },
   "file_extension": ".py",
   "mimetype": "text/x-python",
   "name": "python",
   "nbconvert_exporter": "python",
   "pygments_lexer": "ipython3",
   "version": "3.5.0"
  }
 },
 "nbformat": 4,
 "nbformat_minor": 0
}
