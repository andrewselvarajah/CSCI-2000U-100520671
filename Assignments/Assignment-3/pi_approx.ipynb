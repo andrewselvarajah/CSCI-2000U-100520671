{
 "cells": [
  {
   "cell_type": "code",
   "execution_count": 1,
   "metadata": {
    "collapsed": false
   },
   "outputs": [
    {
     "name": "stdout",
     "output_type": "stream",
     "text": [
      "When n =     10,rho_n = 3.041840\n",
      "When n =     10,tau_n = 3.049362\n",
      "When n =     10,mu_n = 3.141385\n",
      "When n =    100,rho_n = 3.131593\n",
      "When n =    100,tau_n = 3.132077\n",
      "When n =    100,mu_n = 3.141592\n",
      "When n =   1000,rho_n = 3.140593\n",
      "When n =   1000,tau_n = 3.140638\n",
      "When n =   1000,mu_n = 3.141593\n",
      "When n =  10000,rho_n = 3.141493\n",
      "When n =  10000,tau_n = 3.141497\n",
      "When n =  10000,mu_n = 3.141593\n",
      "When n = 100000,rho_n = 3.141583\n",
      "When n = 100000,tau_n = 3.141583\n",
      "When n = 100000,mu_n = 3.141593\n",
      "When n =1000000,rho_n = 3.141592\n",
      "When n =1000000,tau_n = 3.141592\n",
      "When n =1000000,mu_n = 3.141593\n"
     ]
    }
   ],
   "source": [
    "import numpy as np\n",
    "\n",
    "check = 10\n",
    "rho_n = 0.000\n",
    "tau_n = 0.000\n",
    "mu_n = 0.00\n",
    "for x in range (0,6):\n",
    "    rho_n = 0.000\n",
    "    tau_n = 0.000\n",
    "    mu_n = 0.00\n",
    "    for y in range (1,check+1):\n",
    "        rho_n = rho_n + ((-1)**(y+1)/((2*y)-1))\n",
    "        tau_n = tau_n + (1/(y**2))\n",
    "        mu_n = mu_n + (1/y**4)\n",
    "        \n",
    "    rho_n = rho_n * 4\n",
    "    tau_n = (tau_n *6)**0.5\n",
    "    mu_n = (mu_n *90)**0.25\n",
    "    print('When n =' + '%7s'%str(check) + ',rho_n = ' + str('%f'%rho_n))\n",
    "    print('When n =' + '%7s'%str(check) + ',tau_n = ' + str('%f'%tau_n))\n",
    "    print('When n =' + '%7s'%str(check) + ',mu_n = ' + str('%f'%mu_n))\n",
    "    \n",
    "    check = check *10\n",
    "\n",
    "\n"
   ]
  },
  {
   "cell_type": "raw",
   "metadata": {},
   "source": []
  },
  {
   "cell_type": "code",
   "execution_count": null,
   "metadata": {
    "collapsed": true
   },
   "outputs": [],
   "source": []
  }
 ],
 "metadata": {
  "kernelspec": {
   "display_name": "Python 3",
   "language": "python",
   "name": "python3"
  },
  "language_info": {
   "codemirror_mode": {
    "name": "ipython",
    "version": 3
   },
   "file_extension": ".py",
   "mimetype": "text/x-python",
   "name": "python",
   "nbconvert_exporter": "python",
   "pygments_lexer": "ipython3",
   "version": "3.5.0"
  }
 },
 "nbformat": 4,
 "nbformat_minor": 0
}
