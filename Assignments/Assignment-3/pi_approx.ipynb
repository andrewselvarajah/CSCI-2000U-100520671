{
 "cells": [
  {
   "cell_type": "code",
   "execution_count": 23,
   "metadata": {
    "collapsed": false
   },
   "outputs": [
    {
     "name": "stdout",
     "output_type": "stream",
     "text": [
      "When n =10,rho_n = -16.0\n",
      "When n =10,tau_n = 2.44948974278\n",
      "When n =10,mu_n = 3.08007028824\n",
      "When n =100,rho_n = -260.0\n",
      "When n =100,tau_n = 4.54938880034\n",
      "When n =100,mu_n = 4.37751394827\n",
      "When n =1000,rho_n = -3036.0\n",
      "When n =1000,tau_n = 5.77029746218\n",
      "When n =1000,mu_n = 4.69035823175\n",
      "When n =10000,rho_n = -32140.0\n",
      "When n =10000,tau_n = 6.37352216385\n",
      "When n =10000,mu_n = 4.75713558216\n",
      "When n =100000,rho_n = -328556.0\n",
      "When n =100000,tau_n = 6.65140082863\n",
      "When n =100000,mu_n = 4.77103103599\n",
      "When n =1000000,rho_n = -3314220.0\n",
      "When n =1000000,tau_n = 6.77557414333\n",
      "When n =1000000,mu_n = 4.77390728063\n"
     ]
    }
   ],
   "source": [
    "import numpy as np\n",
    "\n",
    "check = 10\n",
    "rho_n = 0.000\n",
    "tau_n = 0.000\n",
    "mu_n = 0.00\n",
    "for x in range (0,6):\n",
    "    for y in range (1,check+1):\n",
    "        rho_n = rho_n + (-1)**(y+1)/((2*y)-1)\n",
    "        tau_n = tau_n + (1/(y**2))\n",
    "        mu_n = mu_n + (1/y**4)\n",
    "        \n",
    "    rho_n = rho_n * 4\n",
    "    tau_n = (tau_n *6)**0.5\n",
    "    mu_n = (mu_n *90)**0.25\n",
    "    print('When n =' + str(check) + ',rho_n = ' + str(rho_n))\n",
    "    print('When n =' + str(check) + ',tau_n = ' + str(tau_n))\n",
    "    print('When n =' + str(check) + ',mu_n = ' + str(mu_n))\n",
    "    \n",
    "    check = check *10\n",
    "\n",
    "\n"
   ]
  },
  {
   "cell_type": "raw",
   "metadata": {},
   "source": []
  },
  {
   "cell_type": "code",
   "execution_count": null,
   "metadata": {
    "collapsed": true
   },
   "outputs": [],
   "source": []
  }
 ],
 "metadata": {
  "kernelspec": {
   "display_name": "Python 2",
   "language": "python",
   "name": "python2"
  },
  "language_info": {
   "codemirror_mode": {
    "name": "ipython",
    "version": 2
   },
   "file_extension": ".py",
   "mimetype": "text/x-python",
   "name": "python",
   "nbconvert_exporter": "python",
   "pygments_lexer": "ipython2",
   "version": "2.7.10"
  }
 },
 "nbformat": 4,
 "nbformat_minor": 0
}
