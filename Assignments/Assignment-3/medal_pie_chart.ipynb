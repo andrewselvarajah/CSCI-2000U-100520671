{
 "cells": [
  {
   "cell_type": "code",
   "execution_count": 8,
   "metadata": {
    "collapsed": false
   },
   "outputs": [],
   "source": [
    "import matplotlib.pyplot as plt\n",
    "import numpy as np\n",
    "\n",
    "\n",
    "labels = \"USA\", \"CHN\", \"GBR\", \"RUS\", \"KOR\", \"GER\", \"FRA\", \"ITA\", \"HUN\", \"AUS\", \"OTHER\"\n",
    "size = [46, 38, 29, 24, 13, 11, 11, 8, 8, 7, 107]\n",
    "colours = ['gold', 'blue', 'green', 'yellow', 'silver', 'orange', 'brown', 'red', 'purple', 'white', 'pink']\n",
    "plt.pie(size, labels=labels, colors=colours, autopct = '%1.1f%%', startangle = 140)\n",
    "\n",
    "plt.axis('equal')\n",
    "plt.title('2012 Olympic gold medals 100520671', bbox = {'facecolor' : \"0.8\", 'pad':5})\n",
    "plt.show()\n"
   ]
  },
  {
   "cell_type": "code",
   "execution_count": null,
   "metadata": {
    "collapsed": true
   },
   "outputs": [],
   "source": []
  },
  {
   "cell_type": "code",
   "execution_count": null,
   "metadata": {
    "collapsed": true
   },
   "outputs": [],
   "source": []
  }
 ],
 "metadata": {
  "kernelspec": {
   "display_name": "Python 2",
   "language": "python",
   "name": "python2"
  },
  "language_info": {
   "codemirror_mode": {
    "name": "ipython",
    "version": 2
   },
   "file_extension": ".py",
   "mimetype": "text/x-python",
   "name": "python",
   "nbconvert_exporter": "python",
   "pygments_lexer": "ipython2",
   "version": "2.7.10"
  }
 },
 "nbformat": 4,
 "nbformat_minor": 0
}
