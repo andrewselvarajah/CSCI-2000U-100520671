{
 "cells": [
  {
   "cell_type": "code",
   "execution_count": 72,
   "metadata": {
    "collapsed": false
   },
   "outputs": [],
   "source": [
    "import matplotlib.pyplot as plt\n",
    "import csv\n",
    "\n",
    "x,y = [], []\n",
    "x_c, y_c = [], []\n",
    "check = True\n",
    "\n",
    "reader = open('xy_points.dat', 'r')\n",
    "data = reader.read()\n",
    "\n",
    "row = data.split()\n",
    "for l in range (len(row)):\n",
    "    if check == True:\n",
    "        x.append(row[l])\n",
    "        check = False\n",
    "    else:\n",
    "        y.append(row[l])\n",
    "        check = True\n",
    "\n",
    "   \n",
    "ycheck = y[-5 <= y <= 0]\n",
    "xcheck = x[x < -2]\n",
    "plt.plot(x, y, 'ro')\n",
    "plt.plot(xcheck, ycheck, 'bo')\n",
    "plt.xlim([-10, 10])\n",
    "plt.ylim(-10, 10)\n",
    "plt.title('Highlighted Points 100520671', bbox = {'facecolor' : \"0.8\", 'pad':5})\n",
    "plt.show()\n",
    "\n",
    "\n"
   ]
  },
  {
   "cell_type": "code",
   "execution_count": null,
   "metadata": {
    "collapsed": true
   },
   "outputs": [],
   "source": []
  },
  {
   "cell_type": "code",
   "execution_count": null,
   "metadata": {
    "collapsed": true
   },
   "outputs": [],
   "source": []
  }
 ],
 "metadata": {
  "kernelspec": {
   "display_name": "Python 2",
   "language": "python",
   "name": "python2"
  },
  "language_info": {
   "codemirror_mode": {
    "name": "ipython",
    "version": 2
   },
   "file_extension": ".py",
   "mimetype": "text/x-python",
   "name": "python",
   "nbconvert_exporter": "python",
   "pygments_lexer": "ipython2",
   "version": "2.7.10"
  }
 },
 "nbformat": 4,
 "nbformat_minor": 0
}
