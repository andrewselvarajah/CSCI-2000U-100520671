{
 "cells": [
  {
   "cell_type": "raw",
   "metadata": {},
   "source": [
    "\n"
   ]
  },
  {
   "cell_type": "code",
   "execution_count": 3,
   "metadata": {
    "collapsed": false
   },
   "outputs": [
    {
     "ename": "SyntaxError",
     "evalue": "invalid syntax (<ipython-input-3-ffe83b042bb7>, line 9)",
     "output_type": "error",
     "traceback": [
      "\u001b[1;36m  File \u001b[1;32m\"<ipython-input-3-ffe83b042bb7>\"\u001b[1;36m, line \u001b[1;32m9\u001b[0m\n\u001b[1;33m    for x in range num:\u001b[0m\n\u001b[1;37m                     ^\u001b[0m\n\u001b[1;31mSyntaxError\u001b[0m\u001b[1;31m:\u001b[0m invalid syntax\n"
     ]
    }
   ],
   "source": [
    "import numpy as np\n",
    "\n",
    "\n",
    "white = np.array([.1, .1, .1], float)\n",
    "num = raw_input(\"Enter how many colour you want:\")\n",
    "arr = np.zeros((num,3))\n",
    "\n",
    "print('Enter numbers in array: ')\n",
    "for x in range (0,num):\n",
    "    for y in range (0,3):\n",
    "        arr[x,y] = raw_input\n",
    "\n",
    "arr = avg(arr, num)\n",
    "print arr\n",
    "    \n",
    "def avg(arr, num):\n",
    "    arr2 = [num][3]\n",
    "    for x in range (0,num):\n",
    "        for y in range (0,3):\n",
    "            arr2[x,y] = (arr[x,y]+.1)/2\n",
    "    return arr2"
   ]
  },
  {
   "cell_type": "code",
   "execution_count": null,
   "metadata": {
    "collapsed": true
   },
   "outputs": [],
   "source": []
  }
 ],
 "metadata": {
  "kernelspec": {
   "display_name": "Python 3",
   "language": "python",
   "name": "python3"
  },
  "language_info": {
   "codemirror_mode": {
    "name": "ipython",
    "version": 3
   },
   "file_extension": ".py",
   "mimetype": "text/x-python",
   "name": "python",
   "nbconvert_exporter": "python",
   "pygments_lexer": "ipython3",
   "version": "3.5.0"
  }
 },
 "nbformat": 4,
 "nbformat_minor": 0
}
